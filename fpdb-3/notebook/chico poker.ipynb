{
 "cells": [
  {
   "cell_type": "code",
   "execution_count": 2,
   "id": "ab819b71",
   "metadata": {},
   "outputs": [
    {
     "name": "stdout",
     "output_type": "stream",
     "text": [
      "[('game_states',), ('sqlite_sequence',), ('tables',), ('tournaments',), ('version',), ('wallet',)]\n"
     ]
    }
   ],
   "source": [
    "import sqlite3\n",
    "import pandas as pd\n",
    "import numpy as np\n",
    "from IPython.display import display, HTML\n",
    "\n",
    "path = \"C:/Program Files (x86)/TigerGaming/history/history.db\"\n",
    "#path = \"/Users/xxx/.fpdb/database/fpdb.db3\"\n",
    "con = sqlite3.connect(path)\n",
    "\n",
    "cur = con.cursor()\n",
    "\n",
    "cur.execute(\"\"\"SELECT name FROM sqlite_master\n",
    "            WHERE type='table'\n",
    "            ORDER BY name;\"\"\")\n",
    "\n",
    "result = cur.fetchall()\n",
    "\n",
    "print(result)"
   ]
  },
  {
   "cell_type": "code",
   "execution_count": 3,
   "id": "5fc3725a",
   "metadata": {},
   "outputs": [
    {
     "data": {
      "text/html": [
       "<table border=\"1\" class=\"dataframe\">\n",
       "  <thead>\n",
       "    <tr style=\"text-align: right;\">\n",
       "      <th></th>\n",
       "      <th>id</th>\n",
       "      <th>table_id</th>\n",
       "      <th>hand</th>\n",
       "      <th>hole_cards</th>\n",
       "      <th>winners</th>\n",
       "      <th>pot</th>\n",
       "      <th>game_state</th>\n",
       "      <th>changes</th>\n",
       "      <th>user_name</th>\n",
       "      <th>relocation</th>\n",
       "      <th>version</th>\n",
       "      <th>extInfo</th>\n",
       "    </tr>\n",
       "  </thead>\n",
       "  <tbody>\n",
       "  </tbody>\n",
       "</table>"
      ],
      "text/plain": [
       "<IPython.core.display.HTML object>"
      ]
     },
     "metadata": {},
     "output_type": "display_data"
    }
   ],
   "source": [
    "cur.execute(\"\"\"SELECT * FROM game_states limit 5\"\"\")\n",
    "names = list(map(lambda x: x[0], cur.description))\n",
    "result = cur.fetchall()\n",
    "\n",
    "\n",
    "df = pd.DataFrame(result, columns=names)\n",
    "\n",
    "display(HTML(df.to_html()))"
   ]
  },
  {
   "cell_type": "code",
   "execution_count": 4,
   "id": "b473de76",
   "metadata": {},
   "outputs": [
    {
     "data": {
      "text/html": [
       "<table border=\"1\" class=\"dataframe\">\n",
       "  <thead>\n",
       "    <tr style=\"text-align: right;\">\n",
       "      <th></th>\n",
       "      <th>name</th>\n",
       "      <th>seq</th>\n",
       "    </tr>\n",
       "  </thead>\n",
       "  <tbody>\n",
       "    <tr>\n",
       "      <th>0</th>\n",
       "      <td>tables</td>\n",
       "      <td>8</td>\n",
       "    </tr>\n",
       "    <tr>\n",
       "      <th>1</th>\n",
       "      <td>game_states</td>\n",
       "      <td>107</td>\n",
       "    </tr>\n",
       "    <tr>\n",
       "      <th>2</th>\n",
       "      <td>tournaments</td>\n",
       "      <td>3</td>\n",
       "    </tr>\n",
       "  </tbody>\n",
       "</table>"
      ],
      "text/plain": [
       "<IPython.core.display.HTML object>"
      ]
     },
     "metadata": {},
     "output_type": "display_data"
    }
   ],
   "source": [
    "cur.execute(\"\"\"SELECT * FROM sqlite_sequence limit 5\"\"\")\n",
    "names = list(map(lambda x: x[0], cur.description))\n",
    "result = cur.fetchall()\n",
    "\n",
    "\n",
    "df = pd.DataFrame(result, columns=names)\n",
    "\n",
    "display(HTML(df.to_html()))"
   ]
  },
  {
   "cell_type": "code",
   "execution_count": 5,
   "id": "775913a4",
   "metadata": {},
   "outputs": [
    {
     "data": {
      "text/html": [
       "<table border=\"1\" class=\"dataframe\">\n",
       "  <thead>\n",
       "    <tr style=\"text-align: right;\">\n",
       "      <th></th>\n",
       "      <th>id</th>\n",
       "      <th>tournament_id</th>\n",
       "      <th>game_mode</th>\n",
       "      <th>table_name</th>\n",
       "      <th>game_type</th>\n",
       "      <th>small_blind</th>\n",
       "      <th>big_blind</th>\n",
       "      <th>date</th>\n",
       "      <th>table_details</th>\n",
       "      <th>user_name</th>\n",
       "      <th>version</th>\n",
       "      <th>entries</th>\n",
       "    </tr>\n",
       "  </thead>\n",
       "  <tbody>\n",
       "  </tbody>\n",
       "</table>"
      ],
      "text/plain": [
       "<IPython.core.display.HTML object>"
      ]
     },
     "metadata": {},
     "output_type": "display_data"
    }
   ],
   "source": [
    "cur.execute(\"\"\"SELECT * FROM tables limit 5\"\"\")\n",
    "names = list(map(lambda x: x[0], cur.description))\n",
    "result = cur.fetchall()\n",
    "\n",
    "\n",
    "df = pd.DataFrame(result, columns=names)\n",
    "\n",
    "display(HTML(df.to_html()))"
   ]
  },
  {
   "cell_type": "code",
   "execution_count": 6,
   "id": "fc30f6de",
   "metadata": {},
   "outputs": [
    {
     "data": {
      "text/html": [
       "<table border=\"1\" class=\"dataframe\">\n",
       "  <thead>\n",
       "    <tr style=\"text-align: right;\">\n",
       "      <th></th>\n",
       "      <th>id</th>\n",
       "      <th>tournamentId</th>\n",
       "      <th>game_mode</th>\n",
       "      <th>type</th>\n",
       "      <th>name</th>\n",
       "      <th>date</th>\n",
       "      <th>user_name</th>\n",
       "      <th>version</th>\n",
       "    </tr>\n",
       "  </thead>\n",
       "  <tbody>\n",
       "  </tbody>\n",
       "</table>"
      ],
      "text/plain": [
       "<IPython.core.display.HTML object>"
      ]
     },
     "metadata": {},
     "output_type": "display_data"
    }
   ],
   "source": [
    "cur.execute(\"\"\"SELECT * FROM tournaments limit 5\"\"\")\n",
    "names = list(map(lambda x: x[0], cur.description))\n",
    "result = cur.fetchall()\n",
    "\n",
    "\n",
    "df = pd.DataFrame(result, columns=names)\n",
    "\n",
    "display(HTML(df.to_html()))"
   ]
  },
  {
   "cell_type": "code",
   "execution_count": 7,
   "id": "a8c0b12f",
   "metadata": {},
   "outputs": [
    {
     "data": {
      "text/html": [
       "<table border=\"1\" class=\"dataframe\">\n",
       "  <thead>\n",
       "    <tr style=\"text-align: right;\">\n",
       "      <th></th>\n",
       "      <th>number</th>\n",
       "    </tr>\n",
       "  </thead>\n",
       "  <tbody>\n",
       "    <tr>\n",
       "      <th>0</th>\n",
       "      <td>12</td>\n",
       "    </tr>\n",
       "  </tbody>\n",
       "</table>"
      ],
      "text/plain": [
       "<IPython.core.display.HTML object>"
      ]
     },
     "metadata": {},
     "output_type": "display_data"
    }
   ],
   "source": [
    "\n",
    "cur.execute(\"\"\"SELECT * FROM version limit 5\"\"\")\n",
    "names = list(map(lambda x: x[0], cur.description))\n",
    "result = cur.fetchall()\n",
    "\n",
    "\n",
    "df = pd.DataFrame(result, columns=names)\n",
    "\n",
    "display(HTML(df.to_html()))"
   ]
  },
  {
   "cell_type": "code",
   "execution_count": 8,
   "id": "59cd4e8c",
   "metadata": {},
   "outputs": [
    {
     "data": {
      "text/html": [
       "<table border=\"1\" class=\"dataframe\">\n",
       "  <thead>\n",
       "    <tr style=\"text-align: right;\">\n",
       "      <th></th>\n",
       "      <th>code</th>\n",
       "      <th>wallet_info</th>\n",
       "    </tr>\n",
       "  </thead>\n",
       "  <tbody>\n",
       "    <tr>\n",
       "      <th>0</th>\n",
       "      <td>COMPPOINTS</td>\n",
       "      <td>b'-\\x8cA\\x0e\\x820\\x10E\\xaf2\\x99\\x0b\\xa8{\\xeb\\xc6\\x15\\x0b\\xa5\\x89D\\x97\\xa6L\\x87\\xd0dh\\x9b\\xb6$r{\\xa1\\xb0{\\xf9\\xff\\xe5]?F\\x84\\x0bP\\xb0\\xac\\xf0\\xde&gt;\\xb4n\\x9bg\\xf7B\\xa09%\\xf6\\xb4(D\\xf0fZ\\xdfw\\xa3!\\x06\\xe7KF\\xc8cH\\xe5{\\xec\\x1a\\xa1$gD\\xe1\\x05\\x0f\\xa3\"{\\xd3\\x0b[\\x85g\\x84\\xd1Y\\xcb\\xbeb^\\xa6&gt;\\xc8\\xd6\\xcd\\xf30\\xb8\\xdfF11\\xb1\\xe5\\xbc\\x0b\\xd1\\x10\\xd7\\xc2\\xe9\\xf6\\x07'</td>\n",
       "    </tr>\n",
       "    <tr>\n",
       "      <th>1</th>\n",
       "      <td>PLAYMONEY</td>\n",
       "      <td>b\"-\\x8cA\\n\\x021\\x0cE\\xaf\\x12r\\x01uo\\x05\\x17\\xee\\xac\\xba\\x93YI\\xa6\\xcd0\\x85NZ\\x9a\\x0e\\xd8\\xdbK\\x8b\\xbb\\xcf\\xfb\\x8fw~S\\x8c\\\\\\xc1%\\xcf\\x06_\\xf7\\xebd\\x9f\\x8f\\xdb\\x84\\xe0\\xf6RX\\\\3\\x88 \\xb4\\xf53R\\x03\\x9b\\x84\\x1b\\x82\\xae\\xa9\\xd4\\xcf\\x9f[\\x84Z\\x02E\\x83'\\x84\\x9c\\x82T5xD`\\xa19\\xb2\\x1fx\\r\\xde\\xb3\\x0c\\xacm\\x9bS\\xec]\\xdd\\x97%|\\xfb\\xca\\x85\\x1d{\\xd6\\xe1j&amp;\\xc7C=\\\\~\"</td>\n",
       "    </tr>\n",
       "    <tr>\n",
       "      <th>2</th>\n",
       "      <td>USD</td>\n",
       "      <td>b'-\\x8bA\\x0e\\x830\\x0c\\x04\\xbfbY=\\xd3\\xf6\\xde\\xf4\\xc4\\x0fP\\xd5ce\\x12#\"\\x99\\x04\\xd9A\\x82\\xdf7D\\xdcvwf__\\x12\\xe1\\x02&gt;\\x07v\\xf8\\x19z\\x04\\xbf\\xa9r\\xf2\\xc7U\\x13-\\'\\xe9\\x86\\x0e\\xfa,Bj\\x086g-\\xbf\\x8b\\x9cR\\xd1H\\xe2\\xf0\\x81\\xb0\\xe6\\x98\\x8a\\xb5\\xc8\\x89F\\xe1\\xe0\\xf0\\x890\\xc7\\x108\\xb5\\xd9\\x8ee\\xccU\\xbe\\xd5\\xb8MS\\xdc\\x1d\\xd6\\x9b\\xb2\\xe7\\xc0\\xd6d[\\xc9ss\\xef\\xef?'</td>\n",
       "    </tr>\n",
       "  </tbody>\n",
       "</table>"
      ],
      "text/plain": [
       "<IPython.core.display.HTML object>"
      ]
     },
     "metadata": {},
     "output_type": "display_data"
    }
   ],
   "source": [
    "\n",
    "cur.execute(\"\"\"SELECT * FROM wallet limit 5\"\"\")\n",
    "names = list(map(lambda x: x[0], cur.description))\n",
    "result = cur.fetchall()\n",
    "\n",
    "\n",
    "df = pd.DataFrame(result, columns=names)\n",
    "\n",
    "display(HTML(df.to_html()))"
   ]
  },
  {
   "cell_type": "code",
   "execution_count": 9,
   "id": "df9d74ba",
   "metadata": {},
   "outputs": [
    {
     "name": "stdout",
     "output_type": "stream",
     "text": [
      "Requirement already satisfied: chardet in c:\\users\\jd\\anaconda3\\lib\\site-packages (4.0.0)\n",
      "Note: you may need to restart the kernel to use updated packages.\n"
     ]
    }
   ],
   "source": [
    "pip install chardet\n"
   ]
  },
  {
   "cell_type": "code",
   "execution_count": 10,
   "id": "7b8592b2",
   "metadata": {},
   "outputs": [
    {
     "ename": "TypeError",
     "evalue": "decode() argument 'encoding' must be str, not None",
     "output_type": "error",
     "traceback": [
      "\u001b[1;31m---------------------------------------------------------------------------\u001b[0m",
      "\u001b[1;31mTypeError\u001b[0m                                 Traceback (most recent call last)",
      "\u001b[1;32m~\\AppData\\Local\\Temp\\ipykernel_25924\\1071623120.py\u001b[0m in \u001b[0;36m<module>\u001b[1;34m\u001b[0m\n\u001b[0;32m      4\u001b[0m \u001b[1;33m\u001b[0m\u001b[0m\n\u001b[0;32m      5\u001b[0m \u001b[0mdetected\u001b[0m \u001b[1;33m=\u001b[0m \u001b[0mchardet\u001b[0m\u001b[1;33m.\u001b[0m\u001b[0mdetect\u001b[0m\u001b[1;33m(\u001b[0m\u001b[0mdata\u001b[0m\u001b[1;33m)\u001b[0m\u001b[1;33m\u001b[0m\u001b[1;33m\u001b[0m\u001b[0m\n\u001b[1;32m----> 6\u001b[1;33m \u001b[0mdecoded\u001b[0m \u001b[1;33m=\u001b[0m \u001b[0mdata\u001b[0m\u001b[1;33m.\u001b[0m\u001b[0mdecode\u001b[0m\u001b[1;33m(\u001b[0m\u001b[0mdetected\u001b[0m\u001b[1;33m[\u001b[0m\u001b[1;34m\"encoding\"\u001b[0m\u001b[1;33m]\u001b[0m\u001b[1;33m)\u001b[0m\u001b[1;33m\u001b[0m\u001b[1;33m\u001b[0m\u001b[0m\n\u001b[0m\u001b[0;32m      7\u001b[0m codecs = ['ascii',\n\u001b[0;32m      8\u001b[0m  \u001b[1;34m'big5'\u001b[0m\u001b[1;33m,\u001b[0m\u001b[1;33m\u001b[0m\u001b[1;33m\u001b[0m\u001b[0m\n",
      "\u001b[1;31mTypeError\u001b[0m: decode() argument 'encoding' must be str, not None"
     ]
    }
   ],
   "source": [
    "import chardet\n",
    "\n",
    "data = \tb'-\\x8bA\\x0e\\x830\\x0c\\x04\\xbfbY=\\xd3\\xf6\\xde\\xf4\\xc4\\x0fP\\xd5ce\\x12#\"\\x99\\x04\\xd9A\\x82\\xdf7D\\xdcvwf__\\x12\\xe1\\x02>\\x07v\\xf8\\x19z\\x04\\xbf\\xa9r\\xf2\\xc7U\\x13-\\'\\xe9\\x86\\x0e\\xfa,Bj\\x086g-\\xbf\\x8b\\x9cR\\xd1H\\xe2\\xf0\\x81\\xb0\\xe6\\x98\\x8a\\xb5\\xc8\\x89F\\xe1\\xe0\\xf0\\x890\\xc7\\x108\\xb5\\xd9\\x8ee\\xccU\\xbe\\xd5\\xb8MS\\xdc\\x1d\\xd6\\x9b\\xb2\\xe7\\xc0\\xd6d[\\xc9ss\\xef\\xef?'\n",
    "\n",
    "detected = chardet.detect(data)\n",
    "decoded = data.decode(detected[\"encoding\"])\n",
    "codecs = ['ascii',\n",
    " 'big5',\n",
    " 'big5hkscs',\n",
    " 'cp037',\n",
    " 'cp273',\n",
    " 'cp424',\n",
    " 'cp437',\n",
    " 'cp500',\n",
    " 'cp720',\n",
    " 'cp737',\n",
    " 'cp775',\n",
    " 'cp850',\n",
    " 'cp852',\n",
    " 'cp855',\n",
    " 'cp856',\n",
    " 'cp857',\n",
    " 'cp858',\n",
    " 'cp860',\n",
    " 'cp861',\n",
    " 'cp862',\n",
    " 'cp863',\n",
    " 'cp864',\n",
    " 'cp865',\n",
    " 'cp866',\n",
    " 'cp869',\n",
    " 'cp874',\n",
    " 'cp875',\n",
    " 'cp932',\n",
    " 'cp949',\n",
    " 'cp950',\n",
    " 'cp1006',\n",
    " 'cp1026',\n",
    " 'cp1125',\n",
    " 'cp1140',\n",
    " 'cp1250',\n",
    " 'cp1251',\n",
    " 'cp1252',\n",
    " 'cp1253',\n",
    " 'cp1254',\n",
    " 'cp1255',\n",
    " 'cp1256',\n",
    " 'cp1257',\n",
    " 'cp1258',\n",
    " 'euc_jp',\n",
    " 'euc_jis_2004',\n",
    " 'euc_jisx0213',\n",
    " 'euc_kr',\n",
    " 'gb2312',\n",
    " 'gbk',\n",
    " 'gb18030',\n",
    " 'hz',\n",
    " 'iso2022_jp',\n",
    " 'iso2022_jp_1',\n",
    " 'iso2022_jp_2',\n",
    " 'iso2022_jp_2004',\n",
    " 'iso2022_jp_3',\n",
    " 'iso2022_jp_ext',\n",
    " 'iso2022_kr',\n",
    " 'latin_1',\n",
    " 'iso8859_2',\n",
    " 'iso8859_3',\n",
    " 'iso8859_4',\n",
    " 'iso8859_5',\n",
    " 'iso8859_6',\n",
    " 'iso8859_7',\n",
    " 'iso8859_8',\n",
    " 'iso8859_9',\n",
    " 'iso8859_10',\n",
    " 'iso8859_11',\n",
    " 'iso8859_13',\n",
    " 'iso8859_14',\n",
    " 'iso8859_15',\n",
    " 'iso8859_16',\n",
    " 'johab',\n",
    " 'koi8_r',\n",
    " 'koi8_t',\n",
    " 'koi8_u',\n",
    " 'kz1048',\n",
    " 'mac_cyrillic',\n",
    " 'mac_greek',\n",
    " 'mac_iceland',\n",
    " 'mac_latin2',\n",
    " 'mac_roman',\n",
    " 'mac_turkish',\n",
    " 'ptcp154',\n",
    " 'shift_jis',\n",
    " 'shift_jis_2004',\n",
    " 'shift_jisx0213',\n",
    " 'utf_32',\n",
    " 'utf_32_be',\n",
    " 'utf_32_le',\n",
    " 'utf_16',\n",
    " 'utf_16_be',\n",
    " 'utf_16_le',\n",
    " 'utf_7',\n",
    " 'utf_8',\n",
    " 'utf_8_sig']\n",
    "\n",
    "for codec in codecs:\n",
    "    try:\n",
    "        print(f\"{codec}, {data.decode(codec)}\")\n",
    "    except UnicodeDecodeError:\n",
    "        continue"
   ]
  },
  {
   "cell_type": "code",
   "execution_count": 18,
   "id": "ad456ed2",
   "metadata": {},
   "outputs": [
    {
     "ename": "Error",
     "evalue": "Invalid base64-encoded string: number of data characters (33) cannot be 1 more than a multiple of 4",
     "output_type": "error",
     "traceback": [
      "\u001b[1;31m---------------------------------------------------------------------------\u001b[0m",
      "\u001b[1;31mError\u001b[0m                                     Traceback (most recent call last)",
      "\u001b[1;32m~\\AppData\\Local\\Temp\\ipykernel_25924\\3146306604.py\u001b[0m in \u001b[0;36m<module>\u001b[1;34m\u001b[0m\n\u001b[0;32m      5\u001b[0m \u001b[1;33m\u001b[0m\u001b[0m\n\u001b[0;32m      6\u001b[0m \u001b[1;31m# Encoder ces données en base64\u001b[0m\u001b[1;33m\u001b[0m\u001b[1;33m\u001b[0m\u001b[0m\n\u001b[1;32m----> 7\u001b[1;33m \u001b[0mencoded_data\u001b[0m \u001b[1;33m=\u001b[0m \u001b[0mbase64\u001b[0m\u001b[1;33m.\u001b[0m\u001b[0mb64decode\u001b[0m\u001b[1;33m(\u001b[0m\u001b[0mbinary_data\u001b[0m\u001b[1;33m)\u001b[0m\u001b[1;33m\u001b[0m\u001b[1;33m\u001b[0m\u001b[0m\n\u001b[0m\u001b[0;32m      8\u001b[0m \u001b[1;33m\u001b[0m\u001b[0m\n\u001b[0;32m      9\u001b[0m \u001b[1;31m# Convertir les données encodées en base64 en chaîne de caractères pour l'affichage\u001b[0m\u001b[1;33m\u001b[0m\u001b[1;33m\u001b[0m\u001b[0m\n",
      "\u001b[1;32m~\\anaconda3\\lib\\base64.py\u001b[0m in \u001b[0;36mb64decode\u001b[1;34m(s, altchars, validate)\u001b[0m\n\u001b[0;32m     85\u001b[0m     \u001b[1;32mif\u001b[0m \u001b[0mvalidate\u001b[0m \u001b[1;32mand\u001b[0m \u001b[1;32mnot\u001b[0m \u001b[0mre\u001b[0m\u001b[1;33m.\u001b[0m\u001b[0mfullmatch\u001b[0m\u001b[1;33m(\u001b[0m\u001b[1;34mb'[A-Za-z0-9+/]*={0,2}'\u001b[0m\u001b[1;33m,\u001b[0m \u001b[0ms\u001b[0m\u001b[1;33m)\u001b[0m\u001b[1;33m:\u001b[0m\u001b[1;33m\u001b[0m\u001b[1;33m\u001b[0m\u001b[0m\n\u001b[0;32m     86\u001b[0m         \u001b[1;32mraise\u001b[0m \u001b[0mbinascii\u001b[0m\u001b[1;33m.\u001b[0m\u001b[0mError\u001b[0m\u001b[1;33m(\u001b[0m\u001b[1;34m'Non-base64 digit found'\u001b[0m\u001b[1;33m)\u001b[0m\u001b[1;33m\u001b[0m\u001b[1;33m\u001b[0m\u001b[0m\n\u001b[1;32m---> 87\u001b[1;33m     \u001b[1;32mreturn\u001b[0m \u001b[0mbinascii\u001b[0m\u001b[1;33m.\u001b[0m\u001b[0ma2b_base64\u001b[0m\u001b[1;33m(\u001b[0m\u001b[0ms\u001b[0m\u001b[1;33m)\u001b[0m\u001b[1;33m\u001b[0m\u001b[1;33m\u001b[0m\u001b[0m\n\u001b[0m\u001b[0;32m     88\u001b[0m \u001b[1;33m\u001b[0m\u001b[0m\n\u001b[0;32m     89\u001b[0m \u001b[1;33m\u001b[0m\u001b[0m\n",
      "\u001b[1;31mError\u001b[0m: Invalid base64-encoded string: number of data characters (33) cannot be 1 more than a multiple of 4"
     ]
    }
   ],
   "source": [
    "import base64\n",
    "\n",
    "# Supposons que vous ayez des données binaires. Par exemple :\n",
    "binary_data = b'-\\x8bA\\x0e\\x830\\x0c\\x04\\xbfbY=\\xd3\\xf6\\xde\\xf4\\xc4\\x0fP\\xd5ce\\x12#\"\\x99\\x04\\xd9A\\x82\\xdf7D\\xdcvwf__\\x12\\xe1\\x02>\\x07v\\xf8\\x19z\\x04\\xbf\\xa9r\\xf2\\xc7U\\x13-\\'\\xe9\\x86\\x0e\\xfa,Bj\\x086g-\\xbf\\x8b\\x9cR\\xd1H\\xe2\\xf0\\x81\\xb0\\xe6\\x98\\x8a\\xb5\\xc8\\x89F\\xe1\\xe0\\xf0\\x890\\xc7\\x108\\xb5\\xd9\\x8ee\\xccU\\xbe\\xd5\\xb8MS\\xdc\\x1d\\xd6\\x9b\\xb2\\xe7\\xc0\\xd6d[\\xc9ss\\xef\\xef?'\n",
    "\n",
    "# Encoder ces données en base64\n",
    "encoded_data = base64.b64decode(binary_data)\n",
    "\n",
    "# Convertir les données encodées en base64 en chaîne de caractères pour l'affichage\n",
    "encoded_string = encoded_data.decode('utf-8')\n",
    "\n",
    "print(\"Données encodées en base64 :\")\n",
    "print(encoded_string)\n",
    "\n"
   ]
  },
  {
   "cell_type": "code",
   "execution_count": null,
   "id": "415700a2-246b-4eb0-8441-6b9a64c8b6ef",
   "metadata": {},
   "outputs": [],
   "source": []
  }
 ],
 "metadata": {
  "kernelspec": {
   "display_name": "Python 3 (ipykernel)",
   "language": "python",
   "name": "python3"
  },
  "language_info": {
   "codemirror_mode": {
    "name": "ipython",
    "version": 3
   },
   "file_extension": ".py",
   "mimetype": "text/x-python",
   "name": "python",
   "nbconvert_exporter": "python",
   "pygments_lexer": "ipython3",
   "version": "3.9.16"
  }
 },
 "nbformat": 4,
 "nbformat_minor": 5
}
